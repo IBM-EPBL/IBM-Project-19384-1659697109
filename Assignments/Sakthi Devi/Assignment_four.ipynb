{
  "nbformat": 4,
  "nbformat_minor": 0,
  "metadata": {
    "colab": {
      "provenance": []
    },
    "kernelspec": {
      "name": "python3",
      "display_name": "Python 3"
    },
    "language_info": {
      "name": "python"
    }
  },
  "cells": [
    {
      "cell_type": "code",
      "execution_count": null,
      "metadata": {
        "id": "S6FuQTolzf_G"
      },
      "outputs": [],
      "source": [
        "from google.colab import files"
      ]
    },
    {
      "cell_type": "code",
      "source": [
        "uploaded=files.upload()"
      ],
      "metadata": {
        "colab": {
          "base_uri": "https://localhost:8080/",
          "height": 74
        },
        "id": "fcYQL6WKzwvM",
        "outputId": "ceae60f0-ea9d-4de2-a5c0-5403177c761e"
      },
      "execution_count": null,
      "outputs": [
        {
          "output_type": "display_data",
          "data": {
            "text/plain": [
              "<IPython.core.display.HTML object>"
            ],
            "text/html": [
              "\n",
              "     <input type=\"file\" id=\"files-f62fb086-2130-4288-80dd-a0d1824163a7\" name=\"files[]\" multiple disabled\n",
              "        style=\"border:none\" />\n",
              "     <output id=\"result-f62fb086-2130-4288-80dd-a0d1824163a7\">\n",
              "      Upload widget is only available when the cell has been executed in the\n",
              "      current browser session. Please rerun this cell to enable.\n",
              "      </output>\n",
              "      <script>// Copyright 2017 Google LLC\n",
              "//\n",
              "// Licensed under the Apache License, Version 2.0 (the \"License\");\n",
              "// you may not use this file except in compliance with the License.\n",
              "// You may obtain a copy of the License at\n",
              "//\n",
              "//      http://www.apache.org/licenses/LICENSE-2.0\n",
              "//\n",
              "// Unless required by applicable law or agreed to in writing, software\n",
              "// distributed under the License is distributed on an \"AS IS\" BASIS,\n",
              "// WITHOUT WARRANTIES OR CONDITIONS OF ANY KIND, either express or implied.\n",
              "// See the License for the specific language governing permissions and\n",
              "// limitations under the License.\n",
              "\n",
              "/**\n",
              " * @fileoverview Helpers for google.colab Python module.\n",
              " */\n",
              "(function(scope) {\n",
              "function span(text, styleAttributes = {}) {\n",
              "  const element = document.createElement('span');\n",
              "  element.textContent = text;\n",
              "  for (const key of Object.keys(styleAttributes)) {\n",
              "    element.style[key] = styleAttributes[key];\n",
              "  }\n",
              "  return element;\n",
              "}\n",
              "\n",
              "// Max number of bytes which will be uploaded at a time.\n",
              "const MAX_PAYLOAD_SIZE = 100 * 1024;\n",
              "\n",
              "function _uploadFiles(inputId, outputId) {\n",
              "  const steps = uploadFilesStep(inputId, outputId);\n",
              "  const outputElement = document.getElementById(outputId);\n",
              "  // Cache steps on the outputElement to make it available for the next call\n",
              "  // to uploadFilesContinue from Python.\n",
              "  outputElement.steps = steps;\n",
              "\n",
              "  return _uploadFilesContinue(outputId);\n",
              "}\n",
              "\n",
              "// This is roughly an async generator (not supported in the browser yet),\n",
              "// where there are multiple asynchronous steps and the Python side is going\n",
              "// to poll for completion of each step.\n",
              "// This uses a Promise to block the python side on completion of each step,\n",
              "// then passes the result of the previous step as the input to the next step.\n",
              "function _uploadFilesContinue(outputId) {\n",
              "  const outputElement = document.getElementById(outputId);\n",
              "  const steps = outputElement.steps;\n",
              "\n",
              "  const next = steps.next(outputElement.lastPromiseValue);\n",
              "  return Promise.resolve(next.value.promise).then((value) => {\n",
              "    // Cache the last promise value to make it available to the next\n",
              "    // step of the generator.\n",
              "    outputElement.lastPromiseValue = value;\n",
              "    return next.value.response;\n",
              "  });\n",
              "}\n",
              "\n",
              "/**\n",
              " * Generator function which is called between each async step of the upload\n",
              " * process.\n",
              " * @param {string} inputId Element ID of the input file picker element.\n",
              " * @param {string} outputId Element ID of the output display.\n",
              " * @return {!Iterable<!Object>} Iterable of next steps.\n",
              " */\n",
              "function* uploadFilesStep(inputId, outputId) {\n",
              "  const inputElement = document.getElementById(inputId);\n",
              "  inputElement.disabled = false;\n",
              "\n",
              "  const outputElement = document.getElementById(outputId);\n",
              "  outputElement.innerHTML = '';\n",
              "\n",
              "  const pickedPromise = new Promise((resolve) => {\n",
              "    inputElement.addEventListener('change', (e) => {\n",
              "      resolve(e.target.files);\n",
              "    });\n",
              "  });\n",
              "\n",
              "  const cancel = document.createElement('button');\n",
              "  inputElement.parentElement.appendChild(cancel);\n",
              "  cancel.textContent = 'Cancel upload';\n",
              "  const cancelPromise = new Promise((resolve) => {\n",
              "    cancel.onclick = () => {\n",
              "      resolve(null);\n",
              "    };\n",
              "  });\n",
              "\n",
              "  // Wait for the user to pick the files.\n",
              "  const files = yield {\n",
              "    promise: Promise.race([pickedPromise, cancelPromise]),\n",
              "    response: {\n",
              "      action: 'starting',\n",
              "    }\n",
              "  };\n",
              "\n",
              "  cancel.remove();\n",
              "\n",
              "  // Disable the input element since further picks are not allowed.\n",
              "  inputElement.disabled = true;\n",
              "\n",
              "  if (!files) {\n",
              "    return {\n",
              "      response: {\n",
              "        action: 'complete',\n",
              "      }\n",
              "    };\n",
              "  }\n",
              "\n",
              "  for (const file of files) {\n",
              "    const li = document.createElement('li');\n",
              "    li.append(span(file.name, {fontWeight: 'bold'}));\n",
              "    li.append(span(\n",
              "        `(${file.type || 'n/a'}) - ${file.size} bytes, ` +\n",
              "        `last modified: ${\n",
              "            file.lastModifiedDate ? file.lastModifiedDate.toLocaleDateString() :\n",
              "                                    'n/a'} - `));\n",
              "    const percent = span('0% done');\n",
              "    li.appendChild(percent);\n",
              "\n",
              "    outputElement.appendChild(li);\n",
              "\n",
              "    const fileDataPromise = new Promise((resolve) => {\n",
              "      const reader = new FileReader();\n",
              "      reader.onload = (e) => {\n",
              "        resolve(e.target.result);\n",
              "      };\n",
              "      reader.readAsArrayBuffer(file);\n",
              "    });\n",
              "    // Wait for the data to be ready.\n",
              "    let fileData = yield {\n",
              "      promise: fileDataPromise,\n",
              "      response: {\n",
              "        action: 'continue',\n",
              "      }\n",
              "    };\n",
              "\n",
              "    // Use a chunked sending to avoid message size limits. See b/62115660.\n",
              "    let position = 0;\n",
              "    do {\n",
              "      const length = Math.min(fileData.byteLength - position, MAX_PAYLOAD_SIZE);\n",
              "      const chunk = new Uint8Array(fileData, position, length);\n",
              "      position += length;\n",
              "\n",
              "      const base64 = btoa(String.fromCharCode.apply(null, chunk));\n",
              "      yield {\n",
              "        response: {\n",
              "          action: 'append',\n",
              "          file: file.name,\n",
              "          data: base64,\n",
              "        },\n",
              "      };\n",
              "\n",
              "      let percentDone = fileData.byteLength === 0 ?\n",
              "          100 :\n",
              "          Math.round((position / fileData.byteLength) * 100);\n",
              "      percent.textContent = `${percentDone}% done`;\n",
              "\n",
              "    } while (position < fileData.byteLength);\n",
              "  }\n",
              "\n",
              "  // All done.\n",
              "  yield {\n",
              "    response: {\n",
              "      action: 'complete',\n",
              "    }\n",
              "  };\n",
              "}\n",
              "\n",
              "scope.google = scope.google || {};\n",
              "scope.google.colab = scope.google.colab || {};\n",
              "scope.google.colab._files = {\n",
              "  _uploadFiles,\n",
              "  _uploadFilesContinue,\n",
              "};\n",
              "})(self);\n",
              "</script> "
            ]
          },
          "metadata": {}
        },
        {
          "output_type": "stream",
          "name": "stdout",
          "text": [
            "Saving Mall_Customers.csv to Mall_Customers.csv\n"
          ]
        }
      ]
    },
    {
      "cell_type": "code",
      "source": [
        "import numpy as np\n",
        "import pandas as pd\n",
        "import matplotlib.pyplot as plt\n",
        "import seaborn as sns\n",
        "from sklearn.model_selection import train_test_split\n",
        "from sklearn.preprocessing import LabelEncoder\n",
        "from sklearn.preprocessing import scale\n"
      ],
      "metadata": {
        "id": "IX07niMG0MFs"
      },
      "execution_count": null,
      "outputs": []
    },
    {
      "cell_type": "code",
      "source": [
        "dataset=pd.read_csv(\"/content/Mall_Customers.csv\")"
      ],
      "metadata": {
        "id": "WIrwvyWN0QKM"
      },
      "execution_count": null,
      "outputs": []
    },
    {
      "cell_type": "code",
      "source": [
        "dataset"
      ],
      "metadata": {
        "colab": {
          "base_uri": "https://localhost:8080/",
          "height": 424
        },
        "id": "DvA0ZslI0df-",
        "outputId": "f4f829ca-d6d4-4cd2-eb1a-ff4796023924"
      },
      "execution_count": null,
      "outputs": [
        {
          "output_type": "execute_result",
          "data": {
            "text/plain": [
              "     CustomerID  Gender  Age  Annual Income (k$)  Spending Score (1-100)\n",
              "0             1    Male   19                  15                      39\n",
              "1             2    Male   21                  15                      81\n",
              "2             3  Female   20                  16                       6\n",
              "3             4  Female   23                  16                      77\n",
              "4             5  Female   31                  17                      40\n",
              "..          ...     ...  ...                 ...                     ...\n",
              "195         196  Female   35                 120                      79\n",
              "196         197  Female   45                 126                      28\n",
              "197         198    Male   32                 126                      74\n",
              "198         199    Male   32                 137                      18\n",
              "199         200    Male   30                 137                      83\n",
              "\n",
              "[200 rows x 5 columns]"
            ],
            "text/html": [
              "\n",
              "  <div id=\"df-127f466b-0e9e-4821-849c-b40ef7110793\">\n",
              "    <div class=\"colab-df-container\">\n",
              "      <div>\n",
              "<style scoped>\n",
              "    .dataframe tbody tr th:only-of-type {\n",
              "        vertical-align: middle;\n",
              "    }\n",
              "\n",
              "    .dataframe tbody tr th {\n",
              "        vertical-align: top;\n",
              "    }\n",
              "\n",
              "    .dataframe thead th {\n",
              "        text-align: right;\n",
              "    }\n",
              "</style>\n",
              "<table border=\"1\" class=\"dataframe\">\n",
              "  <thead>\n",
              "    <tr style=\"text-align: right;\">\n",
              "      <th></th>\n",
              "      <th>CustomerID</th>\n",
              "      <th>Gender</th>\n",
              "      <th>Age</th>\n",
              "      <th>Annual Income (k$)</th>\n",
              "      <th>Spending Score (1-100)</th>\n",
              "    </tr>\n",
              "  </thead>\n",
              "  <tbody>\n",
              "    <tr>\n",
              "      <th>0</th>\n",
              "      <td>1</td>\n",
              "      <td>Male</td>\n",
              "      <td>19</td>\n",
              "      <td>15</td>\n",
              "      <td>39</td>\n",
              "    </tr>\n",
              "    <tr>\n",
              "      <th>1</th>\n",
              "      <td>2</td>\n",
              "      <td>Male</td>\n",
              "      <td>21</td>\n",
              "      <td>15</td>\n",
              "      <td>81</td>\n",
              "    </tr>\n",
              "    <tr>\n",
              "      <th>2</th>\n",
              "      <td>3</td>\n",
              "      <td>Female</td>\n",
              "      <td>20</td>\n",
              "      <td>16</td>\n",
              "      <td>6</td>\n",
              "    </tr>\n",
              "    <tr>\n",
              "      <th>3</th>\n",
              "      <td>4</td>\n",
              "      <td>Female</td>\n",
              "      <td>23</td>\n",
              "      <td>16</td>\n",
              "      <td>77</td>\n",
              "    </tr>\n",
              "    <tr>\n",
              "      <th>4</th>\n",
              "      <td>5</td>\n",
              "      <td>Female</td>\n",
              "      <td>31</td>\n",
              "      <td>17</td>\n",
              "      <td>40</td>\n",
              "    </tr>\n",
              "    <tr>\n",
              "      <th>...</th>\n",
              "      <td>...</td>\n",
              "      <td>...</td>\n",
              "      <td>...</td>\n",
              "      <td>...</td>\n",
              "      <td>...</td>\n",
              "    </tr>\n",
              "    <tr>\n",
              "      <th>195</th>\n",
              "      <td>196</td>\n",
              "      <td>Female</td>\n",
              "      <td>35</td>\n",
              "      <td>120</td>\n",
              "      <td>79</td>\n",
              "    </tr>\n",
              "    <tr>\n",
              "      <th>196</th>\n",
              "      <td>197</td>\n",
              "      <td>Female</td>\n",
              "      <td>45</td>\n",
              "      <td>126</td>\n",
              "      <td>28</td>\n",
              "    </tr>\n",
              "    <tr>\n",
              "      <th>197</th>\n",
              "      <td>198</td>\n",
              "      <td>Male</td>\n",
              "      <td>32</td>\n",
              "      <td>126</td>\n",
              "      <td>74</td>\n",
              "    </tr>\n",
              "    <tr>\n",
              "      <th>198</th>\n",
              "      <td>199</td>\n",
              "      <td>Male</td>\n",
              "      <td>32</td>\n",
              "      <td>137</td>\n",
              "      <td>18</td>\n",
              "    </tr>\n",
              "    <tr>\n",
              "      <th>199</th>\n",
              "      <td>200</td>\n",
              "      <td>Male</td>\n",
              "      <td>30</td>\n",
              "      <td>137</td>\n",
              "      <td>83</td>\n",
              "    </tr>\n",
              "  </tbody>\n",
              "</table>\n",
              "<p>200 rows × 5 columns</p>\n",
              "</div>\n",
              "      <button class=\"colab-df-convert\" onclick=\"convertToInteractive('df-127f466b-0e9e-4821-849c-b40ef7110793')\"\n",
              "              title=\"Convert this dataframe to an interactive table.\"\n",
              "              style=\"display:none;\">\n",
              "        \n",
              "  <svg xmlns=\"http://www.w3.org/2000/svg\" height=\"24px\"viewBox=\"0 0 24 24\"\n",
              "       width=\"24px\">\n",
              "    <path d=\"M0 0h24v24H0V0z\" fill=\"none\"/>\n",
              "    <path d=\"M18.56 5.44l.94 2.06.94-2.06 2.06-.94-2.06-.94-.94-2.06-.94 2.06-2.06.94zm-11 1L8.5 8.5l.94-2.06 2.06-.94-2.06-.94L8.5 2.5l-.94 2.06-2.06.94zm10 10l.94 2.06.94-2.06 2.06-.94-2.06-.94-.94-2.06-.94 2.06-2.06.94z\"/><path d=\"M17.41 7.96l-1.37-1.37c-.4-.4-.92-.59-1.43-.59-.52 0-1.04.2-1.43.59L10.3 9.45l-7.72 7.72c-.78.78-.78 2.05 0 2.83L4 21.41c.39.39.9.59 1.41.59.51 0 1.02-.2 1.41-.59l7.78-7.78 2.81-2.81c.8-.78.8-2.07 0-2.86zM5.41 20L4 18.59l7.72-7.72 1.47 1.35L5.41 20z\"/>\n",
              "  </svg>\n",
              "      </button>\n",
              "      \n",
              "  <style>\n",
              "    .colab-df-container {\n",
              "      display:flex;\n",
              "      flex-wrap:wrap;\n",
              "      gap: 12px;\n",
              "    }\n",
              "\n",
              "    .colab-df-convert {\n",
              "      background-color: #E8F0FE;\n",
              "      border: none;\n",
              "      border-radius: 50%;\n",
              "      cursor: pointer;\n",
              "      display: none;\n",
              "      fill: #1967D2;\n",
              "      height: 32px;\n",
              "      padding: 0 0 0 0;\n",
              "      width: 32px;\n",
              "    }\n",
              "\n",
              "    .colab-df-convert:hover {\n",
              "      background-color: #E2EBFA;\n",
              "      box-shadow: 0px 1px 2px rgba(60, 64, 67, 0.3), 0px 1px 3px 1px rgba(60, 64, 67, 0.15);\n",
              "      fill: #174EA6;\n",
              "    }\n",
              "\n",
              "    [theme=dark] .colab-df-convert {\n",
              "      background-color: #3B4455;\n",
              "      fill: #D2E3FC;\n",
              "    }\n",
              "\n",
              "    [theme=dark] .colab-df-convert:hover {\n",
              "      background-color: #434B5C;\n",
              "      box-shadow: 0px 1px 3px 1px rgba(0, 0, 0, 0.15);\n",
              "      filter: drop-shadow(0px 1px 2px rgba(0, 0, 0, 0.3));\n",
              "      fill: #FFFFFF;\n",
              "    }\n",
              "  </style>\n",
              "\n",
              "      <script>\n",
              "        const buttonEl =\n",
              "          document.querySelector('#df-127f466b-0e9e-4821-849c-b40ef7110793 button.colab-df-convert');\n",
              "        buttonEl.style.display =\n",
              "          google.colab.kernel.accessAllowed ? 'block' : 'none';\n",
              "\n",
              "        async function convertToInteractive(key) {\n",
              "          const element = document.querySelector('#df-127f466b-0e9e-4821-849c-b40ef7110793');\n",
              "          const dataTable =\n",
              "            await google.colab.kernel.invokeFunction('convertToInteractive',\n",
              "                                                     [key], {});\n",
              "          if (!dataTable) return;\n",
              "\n",
              "          const docLinkHtml = 'Like what you see? Visit the ' +\n",
              "            '<a target=\"_blank\" href=https://colab.research.google.com/notebooks/data_table.ipynb>data table notebook</a>'\n",
              "            + ' to learn more about interactive tables.';\n",
              "          element.innerHTML = '';\n",
              "          dataTable['output_type'] = 'display_data';\n",
              "          await google.colab.output.renderOutput(dataTable, element);\n",
              "          const docLink = document.createElement('div');\n",
              "          docLink.innerHTML = docLinkHtml;\n",
              "          element.appendChild(docLink);\n",
              "        }\n",
              "      </script>\n",
              "    </div>\n",
              "  </div>\n",
              "  "
            ]
          },
          "metadata": {},
          "execution_count": 5
        }
      ]
    },
    {
      "cell_type": "code",
      "source": [
        "dataset.dtypes"
      ],
      "metadata": {
        "colab": {
          "base_uri": "https://localhost:8080/"
        },
        "id": "BglCkdNx0hPe",
        "outputId": "39330c54-6ef7-4f64-f782-29e6fc0170ec"
      },
      "execution_count": null,
      "outputs": [
        {
          "output_type": "execute_result",
          "data": {
            "text/plain": [
              "CustomerID                 int64\n",
              "Gender                    object\n",
              "Age                        int64\n",
              "Annual Income (k$)         int64\n",
              "Spending Score (1-100)     int64\n",
              "dtype: object"
            ]
          },
          "metadata": {},
          "execution_count": 6
        }
      ]
    },
    {
      "cell_type": "code",
      "source": [
        "import matplotlib.pyplot as plt\n",
        "%matplotlib inline\n",
        "import seaborn as sns"
      ],
      "metadata": {
        "id": "FsvWtj540n_m"
      },
      "execution_count": null,
      "outputs": []
    },
    {
      "cell_type": "code",
      "source": [
        "sns.stripplot(y=dataset['Age'])"
      ],
      "metadata": {
        "colab": {
          "base_uri": "https://localhost:8080/",
          "height": 269
        },
        "id": "RY319dtc0qdI",
        "outputId": "7db44a2e-8d1b-4474-f524-9bdbc77cf144"
      },
      "execution_count": null,
      "outputs": [
        {
          "output_type": "execute_result",
          "data": {
            "text/plain": [
              "<matplotlib.axes._subplots.AxesSubplot at 0x7f2eaeee65d0>"
            ]
          },
          "metadata": {},
          "execution_count": 8
        },
        {
          "output_type": "display_data",
          "data": {
            "text/plain": [
              "<Figure size 432x288 with 1 Axes>"
            ],
            "image/png": "[encoded data removed]"
          },
          "metadata": {
            "needs_background": "light"
          }
        }
      ]
    },
    {
      "cell_type": "code",
      "source": [
        "sns.distplot(dataset[\"Annual Income (k$)\"])  "
      ],
      "metadata": {
        "colab": {
          "base_uri": "https://localhost:8080/",
          "height": 296
        },
        "id": "xcxn6cwF1DyN",
        "outputId": "ebcd13a1-c3b5-40c9-a5fd-d7fb51cf2307"
      },
      "execution_count": null,
      "outputs": [
        {
          "output_type": "execute_result",
          "data": {
            "text/plain": [
              "<matplotlib.axes._subplots.AxesSubplot at 0x7f2eadc56e10>"
            ]
          },
          "metadata": {},
          "execution_count": 11
        },
        {
          "output_type": "display_data",
          "data": {
            "text/plain": [
              "<Figure size 432x288 with 1 Axes>"
            ],
            "image/png": "[encoded data removed]"
          },
          "metadata": {
            "needs_background": "light"
          }
        }
      ]
    },
    {
      "cell_type": "code",
      "source": [
        "sns.boxplot(dataset[\"Spending Score (1-100)\"])"
      ],
      "metadata": {
        "colab": {
          "base_uri": "https://localhost:8080/",
          "height": 351
        },
        "id": "7d6row5y1lgg",
        "outputId": "dd5ece9f-665e-4a9d-c6f2-c5aa645b8f42"
      },
      "execution_count": null,
      "outputs": [
        {
          "output_type": "stream",
          "name": "stderr",
          "text": [
            "/usr/local/lib/python3.7/dist-packages/seaborn/_decorators.py:43: FutureWarning: Pass the following variable as a keyword arg: x. From version 0.12, the only valid positional argument will be `data`, and passing other arguments without an explicit keyword will result in an error or misinterpretation.\n",
            "  FutureWarning\n"
          ]
        },
        {
          "output_type": "execute_result",
          "data": {
            "text/plain": [
              "<matplotlib.axes._subplots.AxesSubplot at 0x7f2eadb9aad0>"
            ]
          },
          "metadata": {},
          "execution_count": 13
        },
        {
          "output_type": "display_data",
          "data": {
            "text/plain": [
              "<Figure size 432x288 with 1 Axes>"
            ],
            "image/png": "[encoded data removed]"
          },
          "metadata": {
            "needs_background": "light"
          }
        }
      ]
    },
    {
      "cell_type": "code",
      "source": [
        "plt.pie(dataset[\"Gender\"].value_counts(),labels=dataset[\"Gender\"].unique())\n",
        "plt.show()"
      ],
      "metadata": {
        "colab": {
          "base_uri": "https://localhost:8080/",
          "height": 248
        },
        "id": "NfuxVm7512Hy",
        "outputId": "1c6bd41b-ccf8-46b4-8754-df49b9513b9f"
      },
      "execution_count": null,
      "outputs": [
        {
          "output_type": "display_data",
          "data": {
            "text/plain": [
              "<Figure size 432x288 with 1 Axes>"
            ],
            "image/png": "[encoded data removed]"
          },
          "metadata": {}
        }
      ]
    },
    {
      "cell_type": "code",
      "source": [
        "sns.lineplot(dataset[\"CustomerID\"],dataset[\"Spending Score (1-100)\"])"
      ],
      "metadata": {
        "colab": {
          "base_uri": "https://localhost:8080/",
          "height": 351
        },
        "id": "k11DcRaO2ATp",
        "outputId": "2aeefa6a-dfc6-4242-eafa-024370224e5e"
      },
      "execution_count": null,
      "outputs": [
        {
          "output_type": "stream",
          "name": "stderr",
          "text": [
            "/usr/local/lib/python3.7/dist-packages/seaborn/_decorators.py:43: FutureWarning: Pass the following variables as keyword args: x, y. From version 0.12, the only valid positional argument will be `data`, and passing other arguments without an explicit keyword will result in an error or misinterpretation.\n",
            "  FutureWarning\n"
          ]
        },
        {
          "output_type": "execute_result",
          "data": {
            "text/plain": [
              "<matplotlib.axes._subplots.AxesSubplot at 0x7f2eadae3350>"
            ]
          },
          "metadata": {},
          "execution_count": 16
        },
        {
          "output_type": "display_data",
          "data": {
            "text/plain": [
              "<Figure size 432x288 with 1 Axes>"
            ],
            "image/png": "[encoded data removed]"
          },
          "metadata": {
            "needs_background": "light"
          }
        }
      ]
    },
    {
      "cell_type": "code",
      "source": [
        "sns.lineplot(dataset[\"CustomerID\"],dataset[\"Spending Score (1-100)\"])"
      ],
      "metadata": {
        "colab": {
          "base_uri": "https://localhost:8080/",
          "height": 351
        },
        "id": "V2pxF1EX2YZ0",
        "outputId": "2533ae62-76be-4acb-bf32-a400d364b8c8"
      },
      "execution_count": null,
      "outputs": [
        {
          "output_type": "stream",
          "name": "stderr",
          "text": [
            "/usr/local/lib/python3.7/dist-packages/seaborn/_decorators.py:43: FutureWarning: Pass the following variables as keyword args: x, y. From version 0.12, the only valid positional argument will be `data`, and passing other arguments without an explicit keyword will result in an error or misinterpretation.\n",
            "  FutureWarning\n"
          ]
        },
        {
          "output_type": "execute_result",
          "data": {
            "text/plain": [
              "<matplotlib.axes._subplots.AxesSubplot at 0x7f2eadad3150>"
            ]
          },
          "metadata": {},
          "execution_count": 17
        },
        {
          "output_type": "display_data",
          "data": {
            "text/plain": [
              "<Figure size 432x288 with 1 Axes>"
            ],
            "image/png": "[encoded data removed]"
          },
          "metadata": {
            "needs_background": "light"
          }
        }
      ]
    },
    {
      "cell_type": "code",
      "source": [
        "sns.FacetGrid(dataset,hue=\"Gender\",size=5).map(plt.scatter,\"Annual Income (k$)\",\"Spending Score (1-100)\").add_legend()\n",
        "plt.show()"
      ],
      "metadata": {
        "colab": {
          "base_uri": "https://localhost:8080/",
          "height": 404
        },
        "id": "xY__3cBm2mWA",
        "outputId": "6c52665f-594a-44e5-9a75-d3fcb9edaf60"
      },
      "execution_count": null,
      "outputs": [
        {
          "output_type": "stream",
          "name": "stderr",
          "text": [
            "/usr/local/lib/python3.7/dist-packages/seaborn/axisgrid.py:337: UserWarning: The `size` parameter has been renamed to `height`; please update your code.\n",
            "  warnings.warn(msg, UserWarning)\n"
          ]
        },
        {
          "output_type": "display_data",
          "data": {
            "text/plain": [
              "<Figure size 432.125x360 with 1 Axes>"
            ],
            "image/png": "[encoded data removed]"
          },
          "metadata": {
            "needs_background": "light"
          }
        }
      ]
    },
    {
      "cell_type": "code",
      "source": [
        "sns.pairplot(dataset)"
      ],
      "metadata": {
        "colab": {
          "base_uri": "https://localhost:8080/",
          "height": 743
        },
        "id": "dF2CkMpp2xEH",
        "outputId": "b16d65d7-1ef6-49bb-df51-6ac57419e95e"
      },
      "execution_count": null,
      "outputs": [
        {
          "output_type": "execute_result",
          "data": {
            "text/plain": [
              "<seaborn.axisgrid.PairGrid at 0x7f2ead9d7150>"
            ]
          },
          "metadata": {},
          "execution_count": 19
        },
        {
          "output_type": "display_data",
          "data": {
            "text/plain": [
              "<Figure size 720x720 with 20 Axes>"
            ],
            "image/png": "[encoded data removed]"
          },
          "metadata": {
            "needs_background": "light"
          }
        }
      ]
    },
    {
      "cell_type": "code",
      "source": [
        "dataset.mean()"
      ],
      "metadata": {
        "colab": {
          "base_uri": "https://localhost:8080/"
        },
        "id": "mZQGLAfJ3IrH",
        "outputId": "6424b6ce-dc0b-46a6-f33e-2eda1dd03db2"
      },
      "execution_count": null,
      "outputs": [
        {
          "output_type": "stream",
          "name": "stderr",
          "text": [
            "/usr/local/lib/python3.7/dist-packages/ipykernel_launcher.py:1: FutureWarning: Dropping of nuisance columns in DataFrame reductions (with 'numeric_only=None') is deprecated; in a future version this will raise TypeError.  Select only valid columns before calling the reduction.\n",
            "  \"\"\"Entry point for launching an IPython kernel.\n"
          ]
        },
        {
          "output_type": "execute_result",
          "data": {
            "text/plain": [
              "CustomerID                100.50\n",
              "Age                        38.85\n",
              "Annual Income (k$)         60.56\n",
              "Spending Score (1-100)     50.20\n",
              "dtype: float64"
            ]
          },
          "metadata": {},
          "execution_count": 20
        }
      ]
    },
    {
      "cell_type": "code",
      "source": [
        "dataset.median()"
      ],
      "metadata": {
        "colab": {
          "base_uri": "https://localhost:8080/"
        },
        "id": "pVR4Ea2f3Pqp",
        "outputId": "5ecfaf35-a039-4a78-9845-f0876a435953"
      },
      "execution_count": null,
      "outputs": [
        {
          "output_type": "stream",
          "name": "stderr",
          "text": [
            "/usr/local/lib/python3.7/dist-packages/ipykernel_launcher.py:1: FutureWarning: Dropping of nuisance columns in DataFrame reductions (with 'numeric_only=None') is deprecated; in a future version this will raise TypeError.  Select only valid columns before calling the reduction.\n",
            "  \"\"\"Entry point for launching an IPython kernel.\n"
          ]
        },
        {
          "output_type": "execute_result",
          "data": {
            "text/plain": [
              "CustomerID                100.5\n",
              "Age                        36.0\n",
              "Annual Income (k$)         61.5\n",
              "Spending Score (1-100)     50.0\n",
              "dtype: float64"
            ]
          },
          "metadata": {},
          "execution_count": 21
        }
      ]
    },
    {
      "cell_type": "code",
      "source": [
        "dataset[\"Gender\"].mode()"
      ],
      "metadata": {
        "colab": {
          "base_uri": "https://localhost:8080/"
        },
        "id": "ncezD4V23YjZ",
        "outputId": "a0c30aae-9a00-424a-9d8a-3590ae1ee699"
      },
      "execution_count": null,
      "outputs": [
        {
          "output_type": "execute_result",
          "data": {
            "text/plain": [
              "0    Female\n",
              "dtype: object"
            ]
          },
          "metadata": {},
          "execution_count": 22
        }
      ]
    },
    {
      "cell_type": "code",
      "source": [
        "dataset[\"CustomerID\"].mode()"
      ],
      "metadata": {
        "colab": {
          "base_uri": "https://localhost:8080/"
        },
        "id": "u2V3ldxm3lLJ",
        "outputId": "f7e17bc5-6545-4281-ef36-6a25d5caf706"
      },
      "execution_count": null,
      "outputs": [
        {
          "output_type": "execute_result",
          "data": {
            "text/plain": [
              "0        1\n",
              "1        2\n",
              "2        3\n",
              "3        4\n",
              "4        5\n",
              "      ... \n",
              "195    196\n",
              "196    197\n",
              "197    198\n",
              "198    199\n",
              "199    200\n",
              "Length: 200, dtype: int64"
            ]
          },
          "metadata": {},
          "execution_count": 23
        }
      ]
    },
    {
      "cell_type": "code",
      "source": [
        "dataset.isnull().sum()"
      ],
      "metadata": {
        "colab": {
          "base_uri": "https://localhost:8080/"
        },
        "id": "ww_6eWPB3vuC",
        "outputId": "8abedc4e-7083-4a9a-8813-39bbbfa189f0"
      },
      "execution_count": null,
      "outputs": [
        {
          "output_type": "execute_result",
          "data": {
            "text/plain": [
              "CustomerID                0\n",
              "Gender                    0\n",
              "Age                       0\n",
              "Annual Income (k$)        0\n",
              "Spending Score (1-100)    0\n",
              "dtype: int64"
            ]
          },
          "metadata": {},
          "execution_count": 24
        },
        {
          "output_type": "execute_result",
          "data": {
            "text/plain": [
              "CustomerID                0\n",
              "Gender                    0\n",
              "Age                       0\n",
              "Annual Income (k$)        0\n",
              "Spending Score (1-100)    0\n",
              "dtype: int64"
            ]
          },
          "metadata": {},
          "execution_count": 25
        }
      ]
    },
    {
      "cell_type": "code",
      "source": [
        "sns.boxplot(dataset[\"Age\"])"
      ],
      "metadata": {
        "colab": {
          "base_uri": "https://localhost:8080/",
          "height": 351
        },
        "id": "Acts3LOU31ZI",
        "outputId": "cbb1585b-8d4c-46e3-a6e9-e0d77b96660e"
      },
      "execution_count": null,
      "outputs": [
        {
          "output_type": "stream",
          "name": "stderr",
          "text": [
            "/usr/local/lib/python3.7/dist-packages/seaborn/_decorators.py:43: FutureWarning: Pass the following variable as a keyword arg: x. From version 0.12, the only valid positional argument will be `data`, and passing other arguments without an explicit keyword will result in an error or misinterpretation.\n",
            "  FutureWarning\n"
          ]
        },
        {
          "output_type": "execute_result",
          "data": {
            "text/plain": [
              "<matplotlib.axes._subplots.AxesSubplot at 0x7f2eaab08a10>"
            ]
          },
          "metadata": {},
          "execution_count": 26
        },
        {
          "output_type": "display_data",
          "data": {
            "text/plain": [
              "<Figure size 432x288 with 1 Axes>"
            ],
            "image/png": "[encoded data removed]"
          },
          "metadata": {
            "needs_background": "light"
          }
        }
      ]
    },
    {
      "cell_type": "code",
      "source": [
        "Q1 = dataset['Spending Score (1-100)'].quantile(0.25)\n",
        "Q3 = dataset['Spending Score (1-100)'].quantile(0.75)\n",
        "IQR = Q3 - Q1\n",
        "whisker_width = 1.5\n",
        "lower_whisker = Q1 -(whisker_width*IQR)\n",
        "upper_whisker = Q3 +(whisker_width*IQR)\n",
        "dataset['Spending Score (1-100)']=np.where(dataset['Spending Score (1-100)']>upper_whisker,upper_whisker,np.where(dataset['Spending Score (1-100)']<lower_whisker,lower_whisker,dataset['Spending Score (1-100)']))\n",
        "dataset.shape"
      ],
      "metadata": {
        "colab": {
          "base_uri": "https://localhost:8080/"
        },
        "id": "XQ-HFO1H4kDO",
        "outputId": "b44a04de-cd71-449d-99e1-0a6f311a5906"
      },
      "execution_count": null,
      "outputs": [
        {
          "output_type": "execute_result",
          "data": {
            "text/plain": [
              "(200, 5)"
            ]
          },
          "metadata": {},
          "execution_count": 27
        }
      ]
    },
    {
      "cell_type": "code",
      "source": [
        "sns.boxplot(dataset['Age'])"
      ],
      "metadata": {
        "colab": {
          "base_uri": "https://localhost:8080/",
          "height": 351
        },
        "id": "MzwpwmNB5N_9",
        "outputId": "76267a11-1096-4aaf-a5a1-2bbf189f0922"
      },
      "execution_count": null,
      "outputs": [
        {
          "output_type": "stream",
          "name": "stderr",
          "text": [
            "/usr/local/lib/python3.7/dist-packages/seaborn/_decorators.py:43: FutureWarning: Pass the following variable as a keyword arg: x. From version 0.12, the only valid positional argument will be `data`, and passing other arguments without an explicit keyword will result in an error or misinterpretation.\n",
            "  FutureWarning\n"
          ]
        },
        {
          "output_type": "execute_result",
          "data": {
            "text/plain": [
              "<matplotlib.axes._subplots.AxesSubplot at 0x7f2ea92d0a10>"
            ]
          },
          "metadata": {},
          "execution_count": 28
        },
        {
          "output_type": "display_data",
          "data": {
            "text/plain": [
              "<Figure size 432x288 with 1 Axes>"
            ],
            "image/png": "[encoded data removed]"
          },
          "metadata": {
            "needs_background": "light"
          }
        }
      ]
    },
    {
      "cell_type": "code",
      "source": [
        "from sklearn.preprocessing import LabelEncoder\n",
        "le = LabelEncoder()\n",
        "dataset.Gender=le.fit_transform(dataset.Gender)"
      ],
      "metadata": {
        "id": "SS2qkiFV5XGq"
      },
      "execution_count": null,
      "outputs": []
    },
    {
      "cell_type": "code",
      "source": [
        "dataset[\"CustomerID\"]=le.fit_transform(dataset[\"CustomerID\"])\n",
        "dataset.head()"
      ],
      "metadata": {
        "colab": {
          "base_uri": "https://localhost:8080/",
          "height": 206
        },
        "id": "drZsdjWe5cxx",
        "outputId": "cbcc6b6e-103d-4bbf-8625-b2b8dcf8350e"
      },
      "execution_count": null,
      "outputs": [
        {
          "output_type": "execute_result",
          "data": {
            "text/plain": [
              "   CustomerID  Gender  Age  Annual Income (k$)  Spending Score (1-100)\n",
              "0           0       1   19                  15                    39.0\n",
              "1           1       1   21                  15                    81.0\n",
              "2           2       0   20                  16                     6.0\n",
              "3           3       0   23                  16                    77.0\n",
              "4           4       0   31                  17                    40.0"
            ],
            "text/html": [
              "\n",
              "  <div id=\"df-38e6ba58-9e83-4c83-b990-8ebdc45fcb31\">\n",
              "    <div class=\"colab-df-container\">\n",
              "      <div>\n",
              "<style scoped>\n",
              "    .dataframe tbody tr th:only-of-type {\n",
              "        vertical-align: middle;\n",
              "    }\n",
              "\n",
              "    .dataframe tbody tr th {\n",
              "        vertical-align: top;\n",
              "    }\n",
              "\n",
              "    .dataframe thead th {\n",
              "        text-align: right;\n",
              "    }\n",
              "</style>\n",
              "<table border=\"1\" class=\"dataframe\">\n",
              "  <thead>\n",
              "    <tr style=\"text-align: right;\">\n",
              "      <th></th>\n",
              "      <th>CustomerID</th>\n",
              "      <th>Gender</th>\n",
              "      <th>Age</th>\n",
              "      <th>Annual Income (k$)</th>\n",
              "      <th>Spending Score (1-100)</th>\n",
              "    </tr>\n",
              "  </thead>\n",
              "  <tbody>\n",
              "    <tr>\n",
              "      <th>0</th>\n",
              "      <td>0</td>\n",
              "      <td>1</td>\n",
              "      <td>19</td>\n",
              "      <td>15</td>\n",
              "      <td>39.0</td>\n",
              "    </tr>\n",
              "    <tr>\n",
              "      <th>1</th>\n",
              "      <td>1</td>\n",
              "      <td>1</td>\n",
              "      <td>21</td>\n",
              "      <td>15</td>\n",
              "      <td>81.0</td>\n",
              "    </tr>\n",
              "    <tr>\n",
              "      <th>2</th>\n",
              "      <td>2</td>\n",
              "      <td>0</td>\n",
              "      <td>20</td>\n",
              "      <td>16</td>\n",
              "      <td>6.0</td>\n",
              "    </tr>\n",
              "    <tr>\n",
              "      <th>3</th>\n",
              "      <td>3</td>\n",
              "      <td>0</td>\n",
              "      <td>23</td>\n",
              "      <td>16</td>\n",
              "      <td>77.0</td>\n",
              "    </tr>\n",
              "    <tr>\n",
              "      <th>4</th>\n",
              "      <td>4</td>\n",
              "      <td>0</td>\n",
              "      <td>31</td>\n",
              "      <td>17</td>\n",
              "      <td>40.0</td>\n",
              "    </tr>\n",
              "  </tbody>\n",
              "</table>\n",
              "</div>\n",
              "      <button class=\"colab-df-convert\" onclick=\"convertToInteractive('df-38e6ba58-9e83-4c83-b990-8ebdc45fcb31')\"\n",
              "              title=\"Convert this dataframe to an interactive table.\"\n",
              "              style=\"display:none;\">\n",
              "        \n",
              "  <svg xmlns=\"http://www.w3.org/2000/svg\" height=\"24px\"viewBox=\"0 0 24 24\"\n",
              "       width=\"24px\">\n",
              "    <path d=\"M0 0h24v24H0V0z\" fill=\"none\"/>\n",
              "    <path d=\"M18.56 5.44l.94 2.06.94-2.06 2.06-.94-2.06-.94-.94-2.06-.94 2.06-2.06.94zm-11 1L8.5 8.5l.94-2.06 2.06-.94-2.06-.94L8.5 2.5l-.94 2.06-2.06.94zm10 10l.94 2.06.94-2.06 2.06-.94-2.06-.94-.94-2.06-.94 2.06-2.06.94z\"/><path d=\"M17.41 7.96l-1.37-1.37c-.4-.4-.92-.59-1.43-.59-.52 0-1.04.2-1.43.59L10.3 9.45l-7.72 7.72c-.78.78-.78 2.05 0 2.83L4 21.41c.39.39.9.59 1.41.59.51 0 1.02-.2 1.41-.59l7.78-7.78 2.81-2.81c.8-.78.8-2.07 0-2.86zM5.41 20L4 18.59l7.72-7.72 1.47 1.35L5.41 20z\"/>\n",
              "  </svg>\n",
              "      </button>\n",
              "      \n",
              "  <style>\n",
              "    .colab-df-container {\n",
              "      display:flex;\n",
              "      flex-wrap:wrap;\n",
              "      gap: 12px;\n",
              "    }\n",
              "\n",
              "    .colab-df-convert {\n",
              "      background-color: #E8F0FE;\n",
              "      border: none;\n",
              "      border-radius: 50%;\n",
              "      cursor: pointer;\n",
              "      display: none;\n",
              "      fill: #1967D2;\n",
              "      height: 32px;\n",
              "      padding: 0 0 0 0;\n",
              "      width: 32px;\n",
              "    }\n",
              "\n",
              "    .colab-df-convert:hover {\n",
              "      background-color: #E2EBFA;\n",
              "      box-shadow: 0px 1px 2px rgba(60, 64, 67, 0.3), 0px 1px 3px 1px rgba(60, 64, 67, 0.15);\n",
              "      fill: #174EA6;\n",
              "    }\n",
              "\n",
              "    [theme=dark] .colab-df-convert {\n",
              "      background-color: #3B4455;\n",
              "      fill: #D2E3FC;\n",
              "    }\n",
              "\n",
              "    [theme=dark] .colab-df-convert:hover {\n",
              "      background-color: #434B5C;\n",
              "      box-shadow: 0px 1px 3px 1px rgba(0, 0, 0, 0.15);\n",
              "      filter: drop-shadow(0px 1px 2px rgba(0, 0, 0, 0.3));\n",
              "      fill: #FFFFFF;\n",
              "    }\n",
              "  </style>\n",
              "\n",
              "      <script>\n",
              "        const buttonEl =\n",
              "          document.querySelector('#df-38e6ba58-9e83-4c83-b990-8ebdc45fcb31 button.colab-df-convert');\n",
              "        buttonEl.style.display =\n",
              "          google.colab.kernel.accessAllowed ? 'block' : 'none';\n",
              "\n",
              "        async function convertToInteractive(key) {\n",
              "          const element = document.querySelector('#df-38e6ba58-9e83-4c83-b990-8ebdc45fcb31');\n",
              "          const dataTable =\n",
              "            await google.colab.kernel.invokeFunction('convertToInteractive',\n",
              "                                                     [key], {});\n",
              "          if (!dataTable) return;\n",
              "\n",
              "          const docLinkHtml = 'Like what you see? Visit the ' +\n",
              "            '<a target=\"_blank\" href=https://colab.research.google.com/notebooks/data_table.ipynb>data table notebook</a>'\n",
              "            + ' to learn more about interactive tables.';\n",
              "          element.innerHTML = '';\n",
              "          dataTable['output_type'] = 'display_data';\n",
              "          await google.colab.output.renderOutput(dataTable, element);\n",
              "          const docLink = document.createElement('div');\n",
              "          docLink.innerHTML = docLinkHtml;\n",
              "          element.appendChild(docLink);\n",
              "        }\n",
              "      </script>\n",
              "    </div>\n",
              "  </div>\n",
              "  "
            ]
          },
          "metadata": {},
          "execution_count": 37
        }
      ]
    },
    {
      "cell_type": "code",
      "source": [
        "df=dataset.drop(\"Spending Score (1-100)\",axis=1)\n",
        "dataset.head()"
      ],
      "metadata": {
        "colab": {
          "base_uri": "https://localhost:8080/",
          "height": 206
        },
        "id": "3kAfZVmE5sQG",
        "outputId": "e1e0add4-1a82-4a1b-f1f4-16683d73a6e2"
      },
      "execution_count": null,
      "outputs": [
        {
          "output_type": "execute_result",
          "data": {
            "text/plain": [
              "   CustomerID  Gender  Age  Annual Income (k$)  Spending Score (1-100)\n",
              "0           0       1   19                  15                    39.0\n",
              "1           1       1   21                  15                    81.0\n",
              "2           2       0   20                  16                     6.0\n",
              "3           3       0   23                  16                    77.0\n",
              "4           4       0   31                  17                    40.0"
            ],
            "text/html": [
              "\n",
              "  <div id=\"df-92e6a01d-ec70-4d75-b863-1811470bf6ad\">\n",
              "    <div class=\"colab-df-container\">\n",
              "      <div>\n",
              "<style scoped>\n",
              "    .dataframe tbody tr th:only-of-type {\n",
              "        vertical-align: middle;\n",
              "    }\n",
              "\n",
              "    .dataframe tbody tr th {\n",
              "        vertical-align: top;\n",
              "    }\n",
              "\n",
              "    .dataframe thead th {\n",
              "        text-align: right;\n",
              "    }\n",
              "</style>\n",
              "<table border=\"1\" class=\"dataframe\">\n",
              "  <thead>\n",
              "    <tr style=\"text-align: right;\">\n",
              "      <th></th>\n",
              "      <th>CustomerID</th>\n",
              "      <th>Gender</th>\n",
              "      <th>Age</th>\n",
              "      <th>Annual Income (k$)</th>\n",
              "      <th>Spending Score (1-100)</th>\n",
              "    </tr>\n",
              "  </thead>\n",
              "  <tbody>\n",
              "    <tr>\n",
              "      <th>0</th>\n",
              "      <td>0</td>\n",
              "      <td>1</td>\n",
              "      <td>19</td>\n",
              "      <td>15</td>\n",
              "      <td>39.0</td>\n",
              "    </tr>\n",
              "    <tr>\n",
              "      <th>1</th>\n",
              "      <td>1</td>\n",
              "      <td>1</td>\n",
              "      <td>21</td>\n",
              "      <td>15</td>\n",
              "      <td>81.0</td>\n",
              "    </tr>\n",
              "    <tr>\n",
              "      <th>2</th>\n",
              "      <td>2</td>\n",
              "      <td>0</td>\n",
              "      <td>20</td>\n",
              "      <td>16</td>\n",
              "      <td>6.0</td>\n",
              "    </tr>\n",
              "    <tr>\n",
              "      <th>3</th>\n",
              "      <td>3</td>\n",
              "      <td>0</td>\n",
              "      <td>23</td>\n",
              "      <td>16</td>\n",
              "      <td>77.0</td>\n",
              "    </tr>\n",
              "    <tr>\n",
              "      <th>4</th>\n",
              "      <td>4</td>\n",
              "      <td>0</td>\n",
              "      <td>31</td>\n",
              "      <td>17</td>\n",
              "      <td>40.0</td>\n",
              "    </tr>\n",
              "  </tbody>\n",
              "</table>\n",
              "</div>\n",
              "      <button class=\"colab-df-convert\" onclick=\"convertToInteractive('df-92e6a01d-ec70-4d75-b863-1811470bf6ad')\"\n",
              "              title=\"Convert this dataframe to an interactive table.\"\n",
              "              style=\"display:none;\">\n",
              "        \n",
              "  <svg xmlns=\"http://www.w3.org/2000/svg\" height=\"24px\"viewBox=\"0 0 24 24\"\n",
              "       width=\"24px\">\n",
              "    <path d=\"M0 0h24v24H0V0z\" fill=\"none\"/>\n",
              "    <path d=\"M18.56 5.44l.94 2.06.94-2.06 2.06-.94-2.06-.94-.94-2.06-.94 2.06-2.06.94zm-11 1L8.5 8.5l.94-2.06 2.06-.94-2.06-.94L8.5 2.5l-.94 2.06-2.06.94zm10 10l.94 2.06.94-2.06 2.06-.94-2.06-.94-.94-2.06-.94 2.06-2.06.94z\"/><path d=\"M17.41 7.96l-1.37-1.37c-.4-.4-.92-.59-1.43-.59-.52 0-1.04.2-1.43.59L10.3 9.45l-7.72 7.72c-.78.78-.78 2.05 0 2.83L4 21.41c.39.39.9.59 1.41.59.51 0 1.02-.2 1.41-.59l7.78-7.78 2.81-2.81c.8-.78.8-2.07 0-2.86zM5.41 20L4 18.59l7.72-7.72 1.47 1.35L5.41 20z\"/>\n",
              "  </svg>\n",
              "      </button>\n",
              "      \n",
              "  <style>\n",
              "    .colab-df-container {\n",
              "      display:flex;\n",
              "      flex-wrap:wrap;\n",
              "      gap: 12px;\n",
              "    }\n",
              "\n",
              "    .colab-df-convert {\n",
              "      background-color: #E8F0FE;\n",
              "      border: none;\n",
              "      border-radius: 50%;\n",
              "      cursor: pointer;\n",
              "      display: none;\n",
              "      fill: #1967D2;\n",
              "      height: 32px;\n",
              "      padding: 0 0 0 0;\n",
              "      width: 32px;\n",
              "    }\n",
              "\n",
              "    .colab-df-convert:hover {\n",
              "      background-color: #E2EBFA;\n",
              "      box-shadow: 0px 1px 2px rgba(60, 64, 67, 0.3), 0px 1px 3px 1px rgba(60, 64, 67, 0.15);\n",
              "      fill: #174EA6;\n",
              "    }\n",
              "\n",
              "    [theme=dark] .colab-df-convert {\n",
              "      background-color: #3B4455;\n",
              "      fill: #D2E3FC;\n",
              "    }\n",
              "\n",
              "    [theme=dark] .colab-df-convert:hover {\n",
              "      background-color: #434B5C;\n",
              "      box-shadow: 0px 1px 3px 1px rgba(0, 0, 0, 0.15);\n",
              "      filter: drop-shadow(0px 1px 2px rgba(0, 0, 0, 0.3));\n",
              "      fill: #FFFFFF;\n",
              "    }\n",
              "  </style>\n",
              "\n",
              "      <script>\n",
              "        const buttonEl =\n",
              "          document.querySelector('#df-92e6a01d-ec70-4d75-b863-1811470bf6ad button.colab-df-convert');\n",
              "        buttonEl.style.display =\n",
              "          google.colab.kernel.accessAllowed ? 'block' : 'none';\n",
              "\n",
              "        async function convertToInteractive(key) {\n",
              "          const element = document.querySelector('#df-92e6a01d-ec70-4d75-b863-1811470bf6ad');\n",
              "          const dataTable =\n",
              "            await google.colab.kernel.invokeFunction('convertToInteractive',\n",
              "                                                     [key], {});\n",
              "          if (!dataTable) return;\n",
              "\n",
              "          const docLinkHtml = 'Like what you see? Visit the ' +\n",
              "            '<a target=\"_blank\" href=https://colab.research.google.com/notebooks/data_table.ipynb>data table notebook</a>'\n",
              "            + ' to learn more about interactive tables.';\n",
              "          element.innerHTML = '';\n",
              "          dataTable['output_type'] = 'display_data';\n",
              "          await google.colab.output.renderOutput(dataTable, element);\n",
              "          const docLink = document.createElement('div');\n",
              "          docLink.innerHTML = docLinkHtml;\n",
              "          element.appendChild(docLink);\n",
              "        }\n",
              "      </script>\n",
              "    </div>\n",
              "  </div>\n",
              "  "
            ]
          },
          "metadata": {},
          "execution_count": 38
        }
      ]
    },
    {
      "cell_type": "code",
      "source": [
        "x= dataset.iloc[:, [1, 2]].values\n",
        "x.shape"
      ],
      "metadata": {
        "colab": {
          "base_uri": "https://localhost:8080/"
        },
        "id": "PR8eqDig53ns",
        "outputId": "62b5d7ab-883d-4163-bea1-410469152d09"
      },
      "execution_count": null,
      "outputs": [
        {
          "output_type": "execute_result",
          "data": {
            "text/plain": [
              "(200, 2)"
            ]
          },
          "metadata": {},
          "execution_count": 39
        }
      ]
    },
    {
      "cell_type": "code",
      "source": [
        "x"
      ],
      "metadata": {
        "colab": {
          "base_uri": "https://localhost:8080/"
        },
        "id": "1n13SzTt59R1",
        "outputId": "ac2a2659-5eb1-4368-d078-f8f60d7a1cfa"
      },
      "execution_count": null,
      "outputs": [
        {
          "output_type": "execute_result",
          "data": {
            "text/plain": [
              "array([[ 1, 19],\n",
              "       [ 1, 21],\n",
              "       [ 0, 20],\n",
              "       [ 0, 23],\n",
              "       [ 0, 31],\n",
              "       [ 0, 22],\n",
              "       [ 0, 35],\n",
              "       [ 0, 23],\n",
              "       [ 1, 64],\n",
              "       [ 0, 30],\n",
              "       [ 1, 67],\n",
              "       [ 0, 35],\n",
              "       [ 0, 58],\n",
              "       [ 0, 24],\n",
              "       [ 1, 37],\n",
              "       [ 1, 22],\n",
              "       [ 0, 35],\n",
              "       [ 1, 20],\n",
              "       [ 1, 52],\n",
              "       [ 0, 35],\n",
              "       [ 1, 35],\n",
              "       [ 1, 25],\n",
              "       [ 0, 46],\n",
              "       [ 1, 31],\n",
              "       [ 0, 54],\n",
              "       [ 1, 29],\n",
              "       [ 0, 45],\n",
              "       [ 1, 35],\n",
              "       [ 0, 40],\n",
              "       [ 0, 23],\n",
              "       [ 1, 60],\n",
              "       [ 0, 21],\n",
              "       [ 1, 53],\n",
              "       [ 1, 18],\n",
              "       [ 0, 49],\n",
              "       [ 0, 21],\n",
              "       [ 0, 42],\n",
              "       [ 0, 30],\n",
              "       [ 0, 36],\n",
              "       [ 0, 20],\n",
              "       [ 0, 65],\n",
              "       [ 1, 24],\n",
              "       [ 1, 48],\n",
              "       [ 0, 31],\n",
              "       [ 0, 49],\n",
              "       [ 0, 24],\n",
              "       [ 0, 50],\n",
              "       [ 0, 27],\n",
              "       [ 0, 29],\n",
              "       [ 0, 31],\n",
              "       [ 0, 49],\n",
              "       [ 1, 33],\n",
              "       [ 0, 31],\n",
              "       [ 1, 59],\n",
              "       [ 0, 50],\n",
              "       [ 1, 47],\n",
              "       [ 0, 51],\n",
              "       [ 1, 69],\n",
              "       [ 0, 27],\n",
              "       [ 1, 53],\n",
              "       [ 1, 70],\n",
              "       [ 1, 19],\n",
              "       [ 0, 67],\n",
              "       [ 0, 54],\n",
              "       [ 1, 63],\n",
              "       [ 1, 18],\n",
              "       [ 0, 43],\n",
              "       [ 0, 68],\n",
              "       [ 1, 19],\n",
              "       [ 0, 32],\n",
              "       [ 1, 70],\n",
              "       [ 0, 47],\n",
              "       [ 0, 60],\n",
              "       [ 0, 60],\n",
              "       [ 1, 59],\n",
              "       [ 1, 26],\n",
              "       [ 0, 45],\n",
              "       [ 1, 40],\n",
              "       [ 0, 23],\n",
              "       [ 0, 49],\n",
              "       [ 1, 57],\n",
              "       [ 1, 38],\n",
              "       [ 1, 67],\n",
              "       [ 0, 46],\n",
              "       [ 0, 21],\n",
              "       [ 1, 48],\n",
              "       [ 0, 55],\n",
              "       [ 0, 22],\n",
              "       [ 0, 34],\n",
              "       [ 0, 50],\n",
              "       [ 0, 68],\n",
              "       [ 1, 18],\n",
              "       [ 1, 48],\n",
              "       [ 0, 40],\n",
              "       [ 0, 32],\n",
              "       [ 1, 24],\n",
              "       [ 0, 47],\n",
              "       [ 0, 27],\n",
              "       [ 1, 48],\n",
              "       [ 1, 20],\n",
              "       [ 0, 23],\n",
              "       [ 0, 49],\n",
              "       [ 1, 67],\n",
              "       [ 1, 26],\n",
              "       [ 1, 49],\n",
              "       [ 0, 21],\n",
              "       [ 0, 66],\n",
              "       [ 1, 54],\n",
              "       [ 1, 68],\n",
              "       [ 1, 66],\n",
              "       [ 1, 65],\n",
              "       [ 0, 19],\n",
              "       [ 0, 38],\n",
              "       [ 1, 19],\n",
              "       [ 0, 18],\n",
              "       [ 0, 19],\n",
              "       [ 0, 63],\n",
              "       [ 0, 49],\n",
              "       [ 0, 51],\n",
              "       [ 0, 50],\n",
              "       [ 1, 27],\n",
              "       [ 0, 38],\n",
              "       [ 0, 40],\n",
              "       [ 1, 39],\n",
              "       [ 0, 23],\n",
              "       [ 0, 31],\n",
              "       [ 1, 43],\n",
              "       [ 1, 40],\n",
              "       [ 1, 59],\n",
              "       [ 1, 38],\n",
              "       [ 1, 47],\n",
              "       [ 1, 39],\n",
              "       [ 0, 25],\n",
              "       [ 0, 31],\n",
              "       [ 1, 20],\n",
              "       [ 0, 29],\n",
              "       [ 0, 44],\n",
              "       [ 1, 32],\n",
              "       [ 1, 19],\n",
              "       [ 0, 35],\n",
              "       [ 0, 57],\n",
              "       [ 1, 32],\n",
              "       [ 0, 28],\n",
              "       [ 0, 32],\n",
              "       [ 1, 25],\n",
              "       [ 1, 28],\n",
              "       [ 1, 48],\n",
              "       [ 0, 32],\n",
              "       [ 0, 34],\n",
              "       [ 1, 34],\n",
              "       [ 1, 43],\n",
              "       [ 1, 39],\n",
              "       [ 0, 44],\n",
              "       [ 0, 38],\n",
              "       [ 0, 47],\n",
              "       [ 0, 27],\n",
              "       [ 1, 37],\n",
              "       [ 0, 30],\n",
              "       [ 1, 34],\n",
              "       [ 0, 30],\n",
              "       [ 0, 56],\n",
              "       [ 0, 29],\n",
              "       [ 1, 19],\n",
              "       [ 0, 31],\n",
              "       [ 1, 50],\n",
              "       [ 0, 36],\n",
              "       [ 1, 42],\n",
              "       [ 0, 33],\n",
              "       [ 0, 36],\n",
              "       [ 1, 32],\n",
              "       [ 1, 40],\n",
              "       [ 1, 28],\n",
              "       [ 1, 36],\n",
              "       [ 1, 36],\n",
              "       [ 0, 52],\n",
              "       [ 0, 30],\n",
              "       [ 1, 58],\n",
              "       [ 1, 27],\n",
              "       [ 1, 59],\n",
              "       [ 1, 35],\n",
              "       [ 0, 37],\n",
              "       [ 0, 32],\n",
              "       [ 1, 46],\n",
              "       [ 0, 29],\n",
              "       [ 0, 41],\n",
              "       [ 1, 30],\n",
              "       [ 0, 54],\n",
              "       [ 1, 28],\n",
              "       [ 0, 41],\n",
              "       [ 0, 36],\n",
              "       [ 0, 34],\n",
              "       [ 0, 32],\n",
              "       [ 1, 33],\n",
              "       [ 0, 38],\n",
              "       [ 0, 47],\n",
              "       [ 0, 35],\n",
              "       [ 0, 45],\n",
              "       [ 1, 32],\n",
              "       [ 1, 32],\n",
              "       [ 1, 30]])"
            ]
          },
          "metadata": {},
          "execution_count": 40
        }
      ]
    },
    {
      "cell_type": "code",
      "source": [
        "y=dataset.iloc[:,-1].values\n",
        "y"
      ],
      "metadata": {
        "colab": {
          "base_uri": "https://localhost:8080/"
        },
        "id": "Tphuu-qW6BiG",
        "outputId": "cfeed429-d4dd-42a9-ab71-5bb006d27a96"
      },
      "execution_count": null,
      "outputs": [
        {
          "output_type": "execute_result",
          "data": {
            "text/plain": [
              "array([39., 81.,  6., 77., 40., 76.,  6., 94.,  3., 72., 14., 99., 15.,\n",
              "       77., 13., 79., 35., 66., 29., 98., 35., 73.,  5., 73., 14., 82.,\n",
              "       32., 61., 31., 87.,  4., 73.,  4., 92., 14., 81., 17., 73., 26.,\n",
              "       75., 35., 92., 36., 61., 28., 65., 55., 47., 42., 42., 52., 60.,\n",
              "       54., 60., 45., 41., 50., 46., 51., 46., 56., 55., 52., 59., 51.,\n",
              "       59., 50., 48., 59., 47., 55., 42., 49., 56., 47., 54., 53., 48.,\n",
              "       52., 42., 51., 55., 41., 44., 57., 46., 58., 55., 60., 46., 55.,\n",
              "       41., 49., 40., 42., 52., 47., 50., 42., 49., 41., 48., 59., 55.,\n",
              "       56., 42., 50., 46., 43., 48., 52., 54., 42., 46., 48., 50., 43.,\n",
              "       59., 43., 57., 56., 40., 58., 91., 29., 77., 35., 95., 11., 75.,\n",
              "        9., 75., 34., 71.,  5., 88.,  7., 73., 10., 72.,  5., 93., 40.,\n",
              "       87., 12., 97., 36., 74., 22., 90., 17., 88., 20., 76., 16., 89.,\n",
              "        1., 78.,  1., 73., 35., 83.,  5., 93., 26., 75., 20., 95., 27.,\n",
              "       63., 13., 75., 10., 92., 13., 86., 15., 69., 14., 90., 32., 86.,\n",
              "       15., 88., 39., 97., 24., 68., 17., 85., 23., 69.,  8., 91., 16.,\n",
              "       79., 28., 74., 18., 83.])"
            ]
          },
          "metadata": {},
          "execution_count": 41
        }
      ]
    },
    {
      "cell_type": "code",
      "source": [
        "from sklearn.preprocessing import StandardScaler\n",
        "sc = StandardScaler()\n",
        "x_scaled = sc.fit_transform(x)"
      ],
      "metadata": {
        "id": "BhvlVCcs6JRG"
      },
      "execution_count": null,
      "outputs": []
    },
    {
      "cell_type": "code",
      "source": [
        "x_scaled"
      ],
      "metadata": {
        "colab": {
          "base_uri": "https://localhost:8080/"
        },
        "id": "9m5dzi1i6zar",
        "outputId": "2970fe6a-6f61-4f24-fa19-25be6ebbb230"
      },
      "execution_count": null,
      "outputs": [
        {
          "output_type": "execute_result",
          "data": {
            "text/plain": [
              "array([[ 1.12815215, -1.42456879],\n",
              "       [ 1.12815215, -1.28103541],\n",
              "       [-0.88640526, -1.3528021 ],\n",
              "       [-0.88640526, -1.13750203],\n",
              "       [-0.88640526, -0.56336851],\n",
              "       [-0.88640526, -1.20926872],\n",
              "       [-0.88640526, -0.27630176],\n",
              "       [-0.88640526, -1.13750203],\n",
              "       [ 1.12815215,  1.80493225],\n",
              "       [-0.88640526, -0.6351352 ],\n",
              "       [ 1.12815215,  2.02023231],\n",
              "       [-0.88640526, -0.27630176],\n",
              "       [-0.88640526,  1.37433211],\n",
              "       [-0.88640526, -1.06573534],\n",
              "       [ 1.12815215, -0.13276838],\n",
              "       [ 1.12815215, -1.20926872],\n",
              "       [-0.88640526, -0.27630176],\n",
              "       [ 1.12815215, -1.3528021 ],\n",
              "       [ 1.12815215,  0.94373197],\n",
              "       [-0.88640526, -0.27630176],\n",
              "       [ 1.12815215, -0.27630176],\n",
              "       [ 1.12815215, -0.99396865],\n",
              "       [-0.88640526,  0.51313183],\n",
              "       [ 1.12815215, -0.56336851],\n",
              "       [-0.88640526,  1.08726535],\n",
              "       [ 1.12815215, -0.70690189],\n",
              "       [-0.88640526,  0.44136514],\n",
              "       [ 1.12815215, -0.27630176],\n",
              "       [-0.88640526,  0.08253169],\n",
              "       [-0.88640526, -1.13750203],\n",
              "       [ 1.12815215,  1.51786549],\n",
              "       [-0.88640526, -1.28103541],\n",
              "       [ 1.12815215,  1.01549866],\n",
              "       [ 1.12815215, -1.49633548],\n",
              "       [-0.88640526,  0.7284319 ],\n",
              "       [-0.88640526, -1.28103541],\n",
              "       [-0.88640526,  0.22606507],\n",
              "       [-0.88640526, -0.6351352 ],\n",
              "       [-0.88640526, -0.20453507],\n",
              "       [-0.88640526, -1.3528021 ],\n",
              "       [-0.88640526,  1.87669894],\n",
              "       [ 1.12815215, -1.06573534],\n",
              "       [ 1.12815215,  0.65666521],\n",
              "       [-0.88640526, -0.56336851],\n",
              "       [-0.88640526,  0.7284319 ],\n",
              "       [-0.88640526, -1.06573534],\n",
              "       [-0.88640526,  0.80019859],\n",
              "       [-0.88640526, -0.85043527],\n",
              "       [-0.88640526, -0.70690189],\n",
              "       [-0.88640526, -0.56336851],\n",
              "       [-0.88640526,  0.7284319 ],\n",
              "       [ 1.12815215, -0.41983513],\n",
              "       [-0.88640526, -0.56336851],\n",
              "       [ 1.12815215,  1.4460988 ],\n",
              "       [-0.88640526,  0.80019859],\n",
              "       [ 1.12815215,  0.58489852],\n",
              "       [-0.88640526,  0.87196528],\n",
              "       [ 1.12815215,  2.16376569],\n",
              "       [-0.88640526, -0.85043527],\n",
              "       [ 1.12815215,  1.01549866],\n",
              "       [ 1.12815215,  2.23553238],\n",
              "       [ 1.12815215, -1.42456879],\n",
              "       [-0.88640526,  2.02023231],\n",
              "       [-0.88640526,  1.08726535],\n",
              "       [ 1.12815215,  1.73316556],\n",
              "       [ 1.12815215, -1.49633548],\n",
              "       [-0.88640526,  0.29783176],\n",
              "       [-0.88640526,  2.091999  ],\n",
              "       [ 1.12815215, -1.42456879],\n",
              "       [-0.88640526, -0.49160182],\n",
              "       [ 1.12815215,  2.23553238],\n",
              "       [-0.88640526,  0.58489852],\n",
              "       [-0.88640526,  1.51786549],\n",
              "       [-0.88640526,  1.51786549],\n",
              "       [ 1.12815215,  1.4460988 ],\n",
              "       [ 1.12815215, -0.92220196],\n",
              "       [-0.88640526,  0.44136514],\n",
              "       [ 1.12815215,  0.08253169],\n",
              "       [-0.88640526, -1.13750203],\n",
              "       [-0.88640526,  0.7284319 ],\n",
              "       [ 1.12815215,  1.30256542],\n",
              "       [ 1.12815215, -0.06100169],\n",
              "       [ 1.12815215,  2.02023231],\n",
              "       [-0.88640526,  0.51313183],\n",
              "       [-0.88640526, -1.28103541],\n",
              "       [ 1.12815215,  0.65666521],\n",
              "       [-0.88640526,  1.15903204],\n",
              "       [-0.88640526, -1.20926872],\n",
              "       [-0.88640526, -0.34806844],\n",
              "       [-0.88640526,  0.80019859],\n",
              "       [-0.88640526,  2.091999  ],\n",
              "       [ 1.12815215, -1.49633548],\n",
              "       [ 1.12815215,  0.65666521],\n",
              "       [-0.88640526,  0.08253169],\n",
              "       [-0.88640526, -0.49160182],\n",
              "       [ 1.12815215, -1.06573534],\n",
              "       [-0.88640526,  0.58489852],\n",
              "       [-0.88640526, -0.85043527],\n",
              "       [ 1.12815215,  0.65666521],\n",
              "       [ 1.12815215, -1.3528021 ],\n",
              "       [-0.88640526, -1.13750203],\n",
              "       [-0.88640526,  0.7284319 ],\n",
              "       [ 1.12815215,  2.02023231],\n",
              "       [ 1.12815215, -0.92220196],\n",
              "       [ 1.12815215,  0.7284319 ],\n",
              "       [-0.88640526, -1.28103541],\n",
              "       [-0.88640526,  1.94846562],\n",
              "       [ 1.12815215,  1.08726535],\n",
              "       [ 1.12815215,  2.091999  ],\n",
              "       [ 1.12815215,  1.94846562],\n",
              "       [ 1.12815215,  1.87669894],\n",
              "       [-0.88640526, -1.42456879],\n",
              "       [-0.88640526, -0.06100169],\n",
              "       [ 1.12815215, -1.42456879],\n",
              "       [-0.88640526, -1.49633548],\n",
              "       [-0.88640526, -1.42456879],\n",
              "       [-0.88640526,  1.73316556],\n",
              "       [-0.88640526,  0.7284319 ],\n",
              "       [-0.88640526,  0.87196528],\n",
              "       [-0.88640526,  0.80019859],\n",
              "       [ 1.12815215, -0.85043527],\n",
              "       [-0.88640526, -0.06100169],\n",
              "       [-0.88640526,  0.08253169],\n",
              "       [ 1.12815215,  0.010765  ],\n",
              "       [-0.88640526, -1.13750203],\n",
              "       [-0.88640526, -0.56336851],\n",
              "       [ 1.12815215,  0.29783176],\n",
              "       [ 1.12815215,  0.08253169],\n",
              "       [ 1.12815215,  1.4460988 ],\n",
              "       [ 1.12815215, -0.06100169],\n",
              "       [ 1.12815215,  0.58489852],\n",
              "       [ 1.12815215,  0.010765  ],\n",
              "       [-0.88640526, -0.99396865],\n",
              "       [-0.88640526, -0.56336851],\n",
              "       [ 1.12815215, -1.3528021 ],\n",
              "       [-0.88640526, -0.70690189],\n",
              "       [-0.88640526,  0.36959845],\n",
              "       [ 1.12815215, -0.49160182],\n",
              "       [ 1.12815215, -1.42456879],\n",
              "       [-0.88640526, -0.27630176],\n",
              "       [-0.88640526,  1.30256542],\n",
              "       [ 1.12815215, -0.49160182],\n",
              "       [-0.88640526, -0.77866858],\n",
              "       [-0.88640526, -0.49160182],\n",
              "       [ 1.12815215, -0.99396865],\n",
              "       [ 1.12815215, -0.77866858],\n",
              "       [ 1.12815215,  0.65666521],\n",
              "       [-0.88640526, -0.49160182],\n",
              "       [-0.88640526, -0.34806844],\n",
              "       [ 1.12815215, -0.34806844],\n",
              "       [ 1.12815215,  0.29783176],\n",
              "       [ 1.12815215,  0.010765  ],\n",
              "       [-0.88640526,  0.36959845],\n",
              "       [-0.88640526, -0.06100169],\n",
              "       [-0.88640526,  0.58489852],\n",
              "       [-0.88640526, -0.85043527],\n",
              "       [ 1.12815215, -0.13276838],\n",
              "       [-0.88640526, -0.6351352 ],\n",
              "       [ 1.12815215, -0.34806844],\n",
              "       [-0.88640526, -0.6351352 ],\n",
              "       [-0.88640526,  1.23079873],\n",
              "       [-0.88640526, -0.70690189],\n",
              "       [ 1.12815215, -1.42456879],\n",
              "       [-0.88640526, -0.56336851],\n",
              "       [ 1.12815215,  0.80019859],\n",
              "       [-0.88640526, -0.20453507],\n",
              "       [ 1.12815215,  0.22606507],\n",
              "       [-0.88640526, -0.41983513],\n",
              "       [-0.88640526, -0.20453507],\n",
              "       [ 1.12815215, -0.49160182],\n",
              "       [ 1.12815215,  0.08253169],\n",
              "       [ 1.12815215, -0.77866858],\n",
              "       [ 1.12815215, -0.20453507],\n",
              "       [ 1.12815215, -0.20453507],\n",
              "       [-0.88640526,  0.94373197],\n",
              "       [-0.88640526, -0.6351352 ],\n",
              "       [ 1.12815215,  1.37433211],\n",
              "       [ 1.12815215, -0.85043527],\n",
              "       [ 1.12815215,  1.4460988 ],\n",
              "       [ 1.12815215, -0.27630176],\n",
              "       [-0.88640526, -0.13276838],\n",
              "       [-0.88640526, -0.49160182],\n",
              "       [ 1.12815215,  0.51313183],\n",
              "       [-0.88640526, -0.70690189],\n",
              "       [-0.88640526,  0.15429838],\n",
              "       [ 1.12815215, -0.6351352 ],\n",
              "       [-0.88640526,  1.08726535],\n",
              "       [ 1.12815215, -0.77866858],\n",
              "       [-0.88640526,  0.15429838],\n",
              "       [-0.88640526, -0.20453507],\n",
              "       [-0.88640526, -0.34806844],\n",
              "       [-0.88640526, -0.49160182],\n",
              "       [ 1.12815215, -0.41983513],\n",
              "       [-0.88640526, -0.06100169],\n",
              "       [-0.88640526,  0.58489852],\n",
              "       [-0.88640526, -0.27630176],\n",
              "       [-0.88640526,  0.44136514],\n",
              "       [ 1.12815215, -0.49160182],\n",
              "       [ 1.12815215, -0.49160182],\n",
              "       [ 1.12815215, -0.6351352 ]])"
            ]
          },
          "metadata": {},
          "execution_count": 43
        }
      ]
    },
    {
      "cell_type": "code",
      "source": [
        "x_scaled  = pd.DataFrame(x_scaled, columns = dataset.columns[2:4])\n",
        "x_scaled"
      ],
      "metadata": {
        "colab": {
          "base_uri": "https://localhost:8080/",
          "height": 424
        },
        "id": "EYEUcHDf65Q_",
        "outputId": "3358151d-16c0-4c82-9374-0bf55f9c7bcb"
      },
      "execution_count": null,
      "outputs": [
        {
          "output_type": "execute_result",
          "data": {
            "text/plain": [
              "          Age  Annual Income (k$)\n",
              "0    1.128152           -1.424569\n",
              "1    1.128152           -1.281035\n",
              "2   -0.886405           -1.352802\n",
              "3   -0.886405           -1.137502\n",
              "4   -0.886405           -0.563369\n",
              "..        ...                 ...\n",
              "195 -0.886405           -0.276302\n",
              "196 -0.886405            0.441365\n",
              "197  1.128152           -0.491602\n",
              "198  1.128152           -0.491602\n",
              "199  1.128152           -0.635135\n",
              "\n",
              "[200 rows x 2 columns]"
            ],
            "text/html": [
              "\n",
              "  <div id=\"df-06dcb79a-4318-4477-a518-9d6fdd17bff6\">\n",
              "    <div class=\"colab-df-container\">\n",
              "      <div>\n",
              "<style scoped>\n",
              "    .dataframe tbody tr th:only-of-type {\n",
              "        vertical-align: middle;\n",
              "    }\n",
              "\n",
              "    .dataframe tbody tr th {\n",
              "        vertical-align: top;\n",
              "    }\n",
              "\n",
              "    .dataframe thead th {\n",
              "        text-align: right;\n",
              "    }\n",
              "</style>\n",
              "<table border=\"1\" class=\"dataframe\">\n",
              "  <thead>\n",
              "    <tr style=\"text-align: right;\">\n",
              "      <th></th>\n",
              "      <th>Age</th>\n",
              "      <th>Annual Income (k$)</th>\n",
              "    </tr>\n",
              "  </thead>\n",
              "  <tbody>\n",
              "    <tr>\n",
              "      <th>0</th>\n",
              "      <td>1.128152</td>\n",
              "      <td>-1.424569</td>\n",
              "    </tr>\n",
              "    <tr>\n",
              "      <th>1</th>\n",
              "      <td>1.128152</td>\n",
              "      <td>-1.281035</td>\n",
              "    </tr>\n",
              "    <tr>\n",
              "      <th>2</th>\n",
              "      <td>-0.886405</td>\n",
              "      <td>-1.352802</td>\n",
              "    </tr>\n",
              "    <tr>\n",
              "      <th>3</th>\n",
              "      <td>-0.886405</td>\n",
              "      <td>-1.137502</td>\n",
              "    </tr>\n",
              "    <tr>\n",
              "      <th>4</th>\n",
              "      <td>-0.886405</td>\n",
              "      <td>-0.563369</td>\n",
              "    </tr>\n",
              "    <tr>\n",
              "      <th>...</th>\n",
              "      <td>...</td>\n",
              "      <td>...</td>\n",
              "    </tr>\n",
              "    <tr>\n",
              "      <th>195</th>\n",
              "      <td>-0.886405</td>\n",
              "      <td>-0.276302</td>\n",
              "    </tr>\n",
              "    <tr>\n",
              "      <th>196</th>\n",
              "      <td>-0.886405</td>\n",
              "      <td>0.441365</td>\n",
              "    </tr>\n",
              "    <tr>\n",
              "      <th>197</th>\n",
              "      <td>1.128152</td>\n",
              "      <td>-0.491602</td>\n",
              "    </tr>\n",
              "    <tr>\n",
              "      <th>198</th>\n",
              "      <td>1.128152</td>\n",
              "      <td>-0.491602</td>\n",
              "    </tr>\n",
              "    <tr>\n",
              "      <th>199</th>\n",
              "      <td>1.128152</td>\n",
              "      <td>-0.635135</td>\n",
              "    </tr>\n",
              "  </tbody>\n",
              "</table>\n",
              "<p>200 rows × 2 columns</p>\n",
              "</div>\n",
              "      <button class=\"colab-df-convert\" onclick=\"convertToInteractive('df-06dcb79a-4318-4477-a518-9d6fdd17bff6')\"\n",
              "              title=\"Convert this dataframe to an interactive table.\"\n",
              "              style=\"display:none;\">\n",
              "        \n",
              "  <svg xmlns=\"http://www.w3.org/2000/svg\" height=\"24px\"viewBox=\"0 0 24 24\"\n",
              "       width=\"24px\">\n",
              "    <path d=\"M0 0h24v24H0V0z\" fill=\"none\"/>\n",
              "    <path d=\"M18.56 5.44l.94 2.06.94-2.06 2.06-.94-2.06-.94-.94-2.06-.94 2.06-2.06.94zm-11 1L8.5 8.5l.94-2.06 2.06-.94-2.06-.94L8.5 2.5l-.94 2.06-2.06.94zm10 10l.94 2.06.94-2.06 2.06-.94-2.06-.94-.94-2.06-.94 2.06-2.06.94z\"/><path d=\"M17.41 7.96l-1.37-1.37c-.4-.4-.92-.59-1.43-.59-.52 0-1.04.2-1.43.59L10.3 9.45l-7.72 7.72c-.78.78-.78 2.05 0 2.83L4 21.41c.39.39.9.59 1.41.59.51 0 1.02-.2 1.41-.59l7.78-7.78 2.81-2.81c.8-.78.8-2.07 0-2.86zM5.41 20L4 18.59l7.72-7.72 1.47 1.35L5.41 20z\"/>\n",
              "  </svg>\n",
              "      </button>\n",
              "      \n",
              "  <style>\n",
              "    .colab-df-container {\n",
              "      display:flex;\n",
              "      flex-wrap:wrap;\n",
              "      gap: 12px;\n",
              "    }\n",
              "\n",
              "    .colab-df-convert {\n",
              "      background-color: #E8F0FE;\n",
              "      border: none;\n",
              "      border-radius: 50%;\n",
              "      cursor: pointer;\n",
              "      display: none;\n",
              "      fill: #1967D2;\n",
              "      height: 32px;\n",
              "      padding: 0 0 0 0;\n",
              "      width: 32px;\n",
              "    }\n",
              "\n",
              "    .colab-df-convert:hover {\n",
              "      background-color: #E2EBFA;\n",
              "      box-shadow: 0px 1px 2px rgba(60, 64, 67, 0.3), 0px 1px 3px 1px rgba(60, 64, 67, 0.15);\n",
              "      fill: #174EA6;\n",
              "    }\n",
              "\n",
              "    [theme=dark] .colab-df-convert {\n",
              "      background-color: #3B4455;\n",
              "      fill: #D2E3FC;\n",
              "    }\n",
              "\n",
              "    [theme=dark] .colab-df-convert:hover {\n",
              "      background-color: #434B5C;\n",
              "      box-shadow: 0px 1px 3px 1px rgba(0, 0, 0, 0.15);\n",
              "      filter: drop-shadow(0px 1px 2px rgba(0, 0, 0, 0.3));\n",
              "      fill: #FFFFFF;\n",
              "    }\n",
              "  </style>\n",
              "\n",
              "      <script>\n",
              "        const buttonEl =\n",
              "          document.querySelector('#df-06dcb79a-4318-4477-a518-9d6fdd17bff6 button.colab-df-convert');\n",
              "        buttonEl.style.display =\n",
              "          google.colab.kernel.accessAllowed ? 'block' : 'none';\n",
              "\n",
              "        async function convertToInteractive(key) {\n",
              "          const element = document.querySelector('#df-06dcb79a-4318-4477-a518-9d6fdd17bff6');\n",
              "          const dataTable =\n",
              "            await google.colab.kernel.invokeFunction('convertToInteractive',\n",
              "                                                     [key], {});\n",
              "          if (!dataTable) return;\n",
              "\n",
              "          const docLinkHtml = 'Like what you see? Visit the ' +\n",
              "            '<a target=\"_blank\" href=https://colab.research.google.com/notebooks/data_table.ipynb>data table notebook</a>'\n",
              "            + ' to learn more about interactive tables.';\n",
              "          element.innerHTML = '';\n",
              "          dataTable['output_type'] = 'display_data';\n",
              "          await google.colab.output.renderOutput(dataTable, element);\n",
              "          const docLink = document.createElement('div');\n",
              "          docLink.innerHTML = docLinkHtml;\n",
              "          element.appendChild(docLink);\n",
              "        }\n",
              "      </script>\n",
              "    </div>\n",
              "  </div>\n",
              "  "
            ]
          },
          "metadata": {},
          "execution_count": 44
        }
      ]
    },
    {
      "cell_type": "code",
      "source": [
        "X = dataset.iloc[:, [2, 3]].values\n",
        "from sklearn.cluster import KMeans  \n",
        "wcss_list= []  #Initializing the list for the values of WCSS  \n",
        "  \n",
        "#Using for loop for iterations from 1 to 10.  \n",
        "for i in range(1, 11):  \n",
        "    kmeans = KMeans(n_clusters=i, init='k-means++', random_state= 42)  \n",
        "    kmeans.fit(X)  \n",
        "    wcss_list.append(kmeans.inertia_)  \n",
        "plt.plot(range(1, 11), wcss_list)  \n",
        "plt.title('The Elbow Method', fontsize = 20)  \n",
        "plt.xlabel('Number of clusters(k)')  \n",
        "plt.ylabel('wcss_list')  \n",
        "plt.show()"
      ],
      "metadata": {
        "colab": {
          "base_uri": "https://localhost:8080/",
          "height": 300
        },
        "id": "EKf8aIzd7Aum",
        "outputId": "69533357-08de-4a0d-d65a-32dd063adc11"
      },
      "execution_count": null,
      "outputs": [
        {
          "output_type": "display_data",
          "data": {
            "text/plain": [
              "<Figure size 432x288 with 1 Axes>"
            ],
            "image/png": "[encoded data removed]"
          },
          "metadata": {
            "needs_background": "light"
          }
        }
      ]
    },
    {
      "cell_type": "code",
      "source": [
        "kmeans = KMeans(n_clusters=5, init='k-means++', random_state= 42)  \n",
        "y_predict= kmeans.fit_predict(X)\n",
        "plt.scatter(X[y_predict == 0, 0], X[y_predict == 0, 1], s = 100, c = 'blue', label = 'Cluster 1') #for first cluster  \n",
        "plt.scatter(X[y_predict == 1, 0], X[y_predict == 1, 1], s = 100, c = 'green', label = 'Cluster 2') #for second cluster  \n",
        "plt.scatter(X[y_predict== 2, 0], X[y_predict == 2, 1], s = 100, c = 'red', label = 'Cluster 3') #for third cluster  \n",
        "plt.scatter(X[y_predict == 3, 0], X[y_predict == 3, 1], s = 100, c = 'cyan', label = 'Cluster 4') #for fourth cluster  \n",
        "plt.scatter(X[y_predict == 4, 0], X[y_predict == 4, 1], s = 100, c = 'magenta', label = 'Cluster 5') #for fifth cluster  \n",
        "plt.scatter(kmeans.cluster_centers_[:, 0], kmeans.cluster_centers_[:, 1], s = 300, c = 'yellow', label = 'Centroid')   \n",
        "plt.title('Clusters of customers')  \n",
        "plt.xlabel('Annual Income (k$)')  \n",
        "plt.ylabel('Spending Score (1-100)')  \n",
        "plt.legend()  \n",
        "plt.show()"
      ],
      "metadata": {
        "colab": {
          "base_uri": "https://localhost:8080/",
          "height": 295
        },
        "id": "MClgW41S7KMJ",
        "outputId": "8671e501-a695-47f1-c33a-664350752f22"
      },
      "execution_count": null,
      "outputs": [
        {
          "output_type": "display_data",
          "data": {
            "text/plain": [
              "<Figure size 432x288 with 1 Axes>"
            ],
            "image/png": "[encoded data removed]"
          },
          "metadata": {
            "needs_background": "light"
          }
        }
      ]
    },
    {
      "cell_type": "code",
      "source": [
        "X = dataset.iloc[:, [1, 3]].values\n",
        "wcss = []\n",
        "for i in range(1, 11):\n",
        "  kmeans = KMeans(n_clusters = i, init = 'k-means++', max_iter = 300, n_init = 10, random_state = 0)\n",
        "  kmeans.fit(X)\n",
        "  wcss.append(kmeans.inertia_)\n",
        "\n",
        "plt.rcParams['figure.figsize'] = (7, 5)\n",
        "plt.plot(range(1, 11), wcss)\n",
        "plt.title('The Elbow Method', fontsize = 20)\n",
        "plt.xlabel('Age')\n",
        "plt.ylabel('Count')\n",
        "plt.show()\n"
      ],
      "metadata": {
        "colab": {
          "base_uri": "https://localhost:8080/",
          "height": 355
        },
        "id": "r2ejOYdW7SrI",
        "outputId": "7f865d8c-3714-4ec7-edba-4e8cf6d65207"
      },
      "execution_count": null,
      "outputs": [
        {
          "output_type": "display_data",
          "data": {
            "text/plain": [
              "<Figure size 504x360 with 1 Axes>"
            ],
            "image/png": "[encoded data removed]"
          },
          "metadata": {
            "needs_background": "light"
          }
        }
      ]
    },
    {
      "cell_type": "code",
      "source": [
        "kmeans = KMeans(n_clusters = 4, init = 'k-means++', max_iter = 300, n_init = 10, random_state = 0)\n",
        "ymeans = kmeans.fit_predict(X)\n",
        "\n",
        "plt.rcParams['figure.figsize'] = (10, 10)\n",
        "plt.title('Cluster of Ages')\n",
        "\n",
        "plt.scatter(X[ymeans == 0, 0], X[ymeans == 0, 1], s = 100, c = 'pink', label = 'Usual Customers' )\n",
        "plt.scatter(X[ymeans == 1, 0], X[ymeans == 1, 1], s = 100, c = 'orange', label = 'Priority Customers')\n",
        "plt.scatter(X[ymeans == 2, 0], X[ymeans == 2, 1], s = 100, c = 'lightgreen', label = 'Target Customers(Young)')\n",
        "plt.scatter(X[ymeans == 3, 0], X[ymeans == 3, 1], s = 100, c = 'red', label = 'Target Customers(Old)')\n",
        "plt.scatter(kmeans.cluster_centers_[:, 0], kmeans.cluster_centers_[:, 1], s = 50, c = 'black')\n",
        "\n",
        "plt.xlabel('Age')\n",
        "plt.ylabel('Spending Score (1-100)')\n",
        "plt.legend()\n",
        "plt.show()"
      ],
      "metadata": {
        "colab": {
          "base_uri": "https://localhost:8080/",
          "height": 621
        },
        "id": "k0xTWbdj7Zsr",
        "outputId": "0bac76b1-bf46-4e27-d4fe-da45fb574010"
      },
      "execution_count": null,
      "outputs": [
        {
          "output_type": "display_data",
          "data": {
            "text/plain": [
              "<Figure size 720x720 with 1 Axes>"
            ],
            "image/png": "[encoded data removed]"
          },
          "metadata": {
            "needs_background": "light"
          }
        }
      ]
    },
    {
      "cell_type": "code",
      "source": [
        "from sklearn.model_selection import train_test_split\n",
        "x_train, x_test, y_train, y_test = train_test_split(x, y, test_size = 0.3, random_state = 0)\n",
        "x_train"
      ],
      "metadata": {
        "colab": {
          "base_uri": "https://localhost:8080/"
        },
        "id": "lJe2gTUS7pZi",
        "outputId": "cd676d84-57fd-457d-b2ed-7d6636df8fe7"
      },
      "execution_count": null,
      "outputs": [
        {
          "output_type": "execute_result",
          "data": {
            "text/plain": [
              "array([[ 1, 39],\n",
              "       [ 0, 47],\n",
              "       [ 0, 32],\n",
              "       [ 0, 35],\n",
              "       [ 0, 38],\n",
              "       [ 1, 48],\n",
              "       [ 0, 50],\n",
              "       [ 0, 31],\n",
              "       [ 1, 33],\n",
              "       [ 0, 55],\n",
              "       [ 0, 35],\n",
              "       [ 0, 68],\n",
              "       [ 1, 32],\n",
              "       [ 0, 49],\n",
              "       [ 1, 25],\n",
              "       [ 0, 50],\n",
              "       [ 1, 66],\n",
              "       [ 1, 37],\n",
              "       [ 1, 35],\n",
              "       [ 1, 32],\n",
              "       [ 1, 28],\n",
              "       [ 0, 50],\n",
              "       [ 1, 19],\n",
              "       [ 0, 35],\n",
              "       [ 1, 68],\n",
              "       [ 0, 67],\n",
              "       [ 0, 20],\n",
              "       [ 1, 53],\n",
              "       [ 0, 44],\n",
              "       [ 1, 32],\n",
              "       [ 0, 31],\n",
              "       [ 1, 67],\n",
              "       [ 0, 47],\n",
              "       [ 0, 60],\n",
              "       [ 0, 45],\n",
              "       [ 1, 59],\n",
              "       [ 0, 30],\n",
              "       [ 1, 43],\n",
              "       [ 0, 40],\n",
              "       [ 0, 38],\n",
              "       [ 1, 34],\n",
              "       [ 0, 32],\n",
              "       [ 0, 49],\n",
              "       [ 1, 19],\n",
              "       [ 0, 32],\n",
              "       [ 1, 65],\n",
              "       [ 1, 24],\n",
              "       [ 1, 63],\n",
              "       [ 0, 33],\n",
              "       [ 1, 24],\n",
              "       [ 0, 32],\n",
              "       [ 0, 31],\n",
              "       [ 0, 29],\n",
              "       [ 1, 48],\n",
              "       [ 0, 24],\n",
              "       [ 0, 29],\n",
              "       [ 1, 31],\n",
              "       [ 0, 54],\n",
              "       [ 0, 29],\n",
              "       [ 1, 35],\n",
              "       [ 1, 22],\n",
              "       [ 0, 23],\n",
              "       [ 1, 49],\n",
              "       [ 0, 31],\n",
              "       [ 0, 23],\n",
              "       [ 0, 45],\n",
              "       [ 0, 23],\n",
              "       [ 0, 63],\n",
              "       [ 1, 50],\n",
              "       [ 1, 32],\n",
              "       [ 0, 35],\n",
              "       [ 1, 19],\n",
              "       [ 0, 21],\n",
              "       [ 0, 38],\n",
              "       [ 0, 27],\n",
              "       [ 1, 28],\n",
              "       [ 1, 37],\n",
              "       [ 1, 18],\n",
              "       [ 1, 30],\n",
              "       [ 0, 35],\n",
              "       [ 0, 50],\n",
              "       [ 1, 67],\n",
              "       [ 0, 21],\n",
              "       [ 1, 69],\n",
              "       [ 1, 18],\n",
              "       [ 1, 21],\n",
              "       [ 1, 27],\n",
              "       [ 1, 19],\n",
              "       [ 1, 48],\n",
              "       [ 0, 21],\n",
              "       [ 0, 25],\n",
              "       [ 1, 36],\n",
              "       [ 1, 20],\n",
              "       [ 0, 36],\n",
              "       [ 0, 31],\n",
              "       [ 1, 59],\n",
              "       [ 0, 30],\n",
              "       [ 1, 59],\n",
              "       [ 0, 49],\n",
              "       [ 0, 40],\n",
              "       [ 0, 18],\n",
              "       [ 1, 39],\n",
              "       [ 0, 21],\n",
              "       [ 1, 42],\n",
              "       [ 1, 40],\n",
              "       [ 1, 58],\n",
              "       [ 1, 53],\n",
              "       [ 0, 28],\n",
              "       [ 1, 32],\n",
              "       [ 0, 32],\n",
              "       [ 0, 23],\n",
              "       [ 1, 20],\n",
              "       [ 1, 67],\n",
              "       [ 0, 49],\n",
              "       [ 0, 19],\n",
              "       [ 0, 34],\n",
              "       [ 0, 38],\n",
              "       [ 0, 60],\n",
              "       [ 1, 40],\n",
              "       [ 1, 29],\n",
              "       [ 0, 36],\n",
              "       [ 1, 38],\n",
              "       [ 0, 41],\n",
              "       [ 0, 52],\n",
              "       [ 0, 34],\n",
              "       [ 0, 20],\n",
              "       [ 0, 27],\n",
              "       [ 0, 57],\n",
              "       [ 0, 34],\n",
              "       [ 1, 70],\n",
              "       [ 0, 22],\n",
              "       [ 0, 42],\n",
              "       [ 1, 25],\n",
              "       [ 0, 30],\n",
              "       [ 1, 26],\n",
              "       [ 0, 68],\n",
              "       [ 1, 33],\n",
              "       [ 0, 49],\n",
              "       [ 0, 27],\n",
              "       [ 1, 36]])"
            ]
          },
          "metadata": {},
          "execution_count": 50
        }
      ]
    },
    {
      "cell_type": "code",
      "source": [
        "from sklearn.ensemble import RandomForestRegressor\n",
        "regressor = RandomForestRegressor()\n",
        "regressor.fit(x, y)"
      ],
      "metadata": {
        "colab": {
          "base_uri": "https://localhost:8080/"
        },
        "id": "TBUSldri8Aln",
        "outputId": "d76afb9f-484e-4fa8-d426-55a4b8f73ed6"
      },
      "execution_count": null,
      "outputs": [
        {
          "output_type": "execute_result",
          "data": {
            "text/plain": [
              "RandomForestRegressor()"
            ]
          },
          "metadata": {},
          "execution_count": 51
        }
      ]
    },
    {
      "cell_type": "code",
      "source": [
        "from sklearn.metrics import mean_absolute_error,mean_squared_error,r2_score\n",
        "y_pred=regressor.predict(x_test)\n",
        "yu=regressor.predict([[ 19.  ,  15.  ]])\n",
        "yu"
      ],
      "metadata": {
        "colab": {
          "base_uri": "https://localhost:8080/"
        },
        "id": "bDHadb0g8DQW",
        "outputId": "e9bb3fa9-c8be-4180-de5b-ba8be1fc2b42"
      },
      "execution_count": null,
      "outputs": [
        {
          "output_type": "execute_result",
          "data": {
            "text/plain": [
              "array([61.73846429])"
            ]
          },
          "metadata": {},
          "execution_count": 52
        }
      ]
    },
    {
      "cell_type": "code",
      "source": [
        "print(\"MAE:\",mean_absolute_error(y_test,y_pred))\n",
        "print(\"MSE:\",mean_squared_error(y_test,y_pred))\n",
        "print(\"RMSE:\",np.sqrt(mean_squared_error(y_test,y_pred)))\n",
        "print(\"R2-Score:\",r2_score(y_test,y_pred))"
      ],
      "metadata": {
        "colab": {
          "base_uri": "https://localhost:8080/"
        },
        "id": "xGtOepC28KDa",
        "outputId": "49d1404d-739b-4d26-b23a-bff97bfbb83f"
      },
      "execution_count": null,
      "outputs": [
        {
          "output_type": "stream",
          "name": "stdout",
          "text": [
            "MAE: 13.596705864043365\n",
            "MSE: 305.0626790205609\n",
            "RMSE: 17.466043599526508\n",
            "R2-Score: 0.5746707495278889\n"
          ]
        }
      ]
    }
  ]
}